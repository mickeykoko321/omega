{
 "cells": [
  {
   "cell_type": "code",
   "execution_count": null,
   "metadata": {},
   "outputs": [],
   "source": [
    "# Imports\n",
    "import IPython.core.display as di\n",
    "import importlib as ilib\n",
    "import logging\n",
    "import matplotlib\n",
    "import matplotlib.cm as cmx\n",
    "import matplotlib.colors as colors\n",
    "import matplotlib.gridspec as gridspec\n",
    "import matplotlib.pyplot as plt\n",
    "import numpy as np\n",
    "import pandas as pd\n",
    "import os\n",
    "\n",
    "import omega.configuration as c\n",
    "import omega.core.chain as occ\n",
    "import omega.core.instrument as oci\n",
    "\n",
    "%matplotlib inline"
   ]
  },
  {
   "cell_type": "code",
   "execution_count": null,
   "metadata": {},
   "outputs": [],
   "source": [
    "# Disable logging output\n",
    "logger = logging.getLogger()\n",
    "logger.setLevel(logging.WARNING)"
   ]
  },
  {
   "cell_type": "code",
   "execution_count": null,
   "metadata": {},
   "outputs": [],
   "source": [
    "def plot_gradient_df(df, title, cname):\n",
    "    # Figure\n",
    "    f, (ax1, ax2) = plt.subplots(2, figsize=(18, 8))\n",
    "    f.subplots_adjust(top=0.93, bottom=0.01, left=0.2, right=0.99)\n",
    "    gs = gridspec.GridSpec(2, 1, height_ratios=[1, 50]) \n",
    "    # Colors\n",
    "    cm = plt.get_cmap(cname)\n",
    "    cNorm  = colors.Normalize(vmin=0, vmax=len(df.columns))\n",
    "    scalarMap = cmx.ScalarMappable(norm=cNorm, cmap=cm)\n",
    "    # Gradient\n",
    "    gradient = np.linspace(0, 1, 256)\n",
    "    gradient = np.vstack((gradient, gradient))\n",
    "    # Gradient Plot\n",
    "    ax1 = plt.subplot(gs[0])\n",
    "    ax1.imshow(gradient, aspect='auto', cmap=plt.get_cmap(cname))\n",
    "    ax1.get_xaxis().set_visible(False)\n",
    "    ax1.get_yaxis().set_visible(False)\n",
    "    gs.update(hspace=0.02)\n",
    "    # Chart plot\n",
    "    ax2 = plt.subplot(gs[1])\n",
    "    for idx, col in enumerate(df.columns):\n",
    "        ax2.plot(df[col], color=scalarMap.to_rgba(idx))\n",
    "    # Title\n",
    "    f.suptitle(title, fontsize=16)"
   ]
  },
  {
   "cell_type": "code",
   "execution_count": null,
   "metadata": {
    "scrolled": false
   },
   "outputs": [],
   "source": [
    "ilib.reload(occ)\n",
    "stem = 'LH'\n",
    "di.display_html('<h3>Analysis</h3>', raw=True)\n",
    "# Chain\n",
    "fc = occ.FutureChain(stem, oci.FutureType.Spread)\n",
    "fc.initialize_contracts(occ.Status.Expired, filter='G', initialize_data=True, days_back=120, extra_days=False)\n",
    "print('Number of contracts: {}'.format(len(fc.contracts)))\n",
    "print('Contracts: {}'.format(fc.contracts))\n",
    "# Data\n",
    "closes = pd.DataFrame()\n",
    "volumes = pd.DataFrame()\n",
    "avols = pd.DataFrame()\n",
    "for ct in fc.contracts[5:]:\n",
    "    closes[ct] = fc.data[ct]['Close'].values\n",
    "    volumes[ct] = fc.data[ct]['Volume'].values\n",
    "    avols[ct] = occ.aggregate(fc, ct, 'Volume', length=5)\n",
    "\n",
    "plot_gradient_df(closes, '{} - Closes'.format(stem), 'inferno')\n",
    "plot_gradient_df(volumes, '{} - Volumes'.format(stem), 'inferno')\n",
    "plot_gradient_df(avols, '{} - Aggregated Volumes'.format(stem), 'inferno')"
   ]
  },
  {
   "cell_type": "code",
   "execution_count": null,
   "metadata": {},
   "outputs": [],
   "source": [
    "df = pd.read_csv(os.path.join(c.cfg['default']['data'], 'Analysis', 'LC-F.csv'),index_col=0)\n",
    "df = df.rolling(20, axis=0).mean()\n",
    "plot_gradient_df(df.transpose(), 'Test', 'inferno')"
   ]
  }
 ],
 "metadata": {
  "kernelspec": {
   "display_name": "Python 3",
   "language": "python",
   "name": "python3"
  },
  "language_info": {
   "codemirror_mode": {
    "name": "ipython",
    "version": 3
   },
   "file_extension": ".py",
   "mimetype": "text/x-python",
   "name": "python",
   "nbconvert_exporter": "python",
   "pygments_lexer": "ipython3",
   "version": "3.6.0"
  }
 },
 "nbformat": 4,
 "nbformat_minor": 2
}
