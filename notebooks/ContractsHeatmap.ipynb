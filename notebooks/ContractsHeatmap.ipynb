{
 "cells": [
  {
   "cell_type": "code",
   "execution_count": null,
   "metadata": {
    "collapsed": true
   },
   "outputs": [],
   "source": [
    "import datetime as dt\n",
    "import importlib as ilib\n",
    "import logging\n",
    "import math\n",
    "import numpy as np\n",
    "import os\n",
    "import pandas as pd\n",
    "import plotly.figure_factory as pff\n",
    "import plotly.offline as plo\n",
    "import plotly.graph_objs as go\n",
    "\n",
    "import omega.configuration as oc\n",
    "import omega.core.chain as occ\n",
    "import omega.core.contract as occo\n",
    "import omega.core.instrument as oci\n",
    "import omega.chart.heatmap as och\n",
    "import omega.data.utils as odu\n",
    "\n",
    "plo.init_notebook_mode(connected=False)"
   ]
  },
  {
   "cell_type": "code",
   "execution_count": null,
   "metadata": {},
   "outputs": [],
   "source": [
    "# Disable logging output\n",
    "log = logging.getLogger()\n",
    "log.setLevel(logging.INFO)"
   ]
  },
  {
   "cell_type": "code",
   "execution_count": null,
   "metadata": {},
   "outputs": [],
   "source": [
    "# Change contract month\n",
    "if False:\n",
    "    occo.amend_ctrmth('FC', [('J', True), ('U', True)])"
   ]
  },
  {
   "cell_type": "code",
   "execution_count": null,
   "metadata": {},
   "outputs": [],
   "source": [
    "ilib.reload(och)\n",
    "stem = 'BO'\n",
    "# Get Chain\n",
    "fc = occ.FutureChain(stem, oci.FutureType.Outright)\n",
    "contracts = fc.initialize_contracts(occ.Status.Expired, we_trade=False)\n",
    "data = fc.initialize_data()\n",
    "# Heatmaps\n",
    "och.per_contract(fc)\n",
    "och.per_contract(fc, field='OI')"
   ]
  }
 ],
 "metadata": {
  "kernelspec": {
   "display_name": "Python 3",
   "language": "python",
   "name": "python3"
  },
  "language_info": {
   "codemirror_mode": {
    "name": "ipython",
    "version": 3
   },
   "file_extension": ".py",
   "mimetype": "text/x-python",
   "name": "python",
   "nbconvert_exporter": "python",
   "pygments_lexer": "ipython3",
   "version": "3.6.4"
  }
 },
 "nbformat": 4,
 "nbformat_minor": 2
}
