{
 "cells": [
  {
   "cell_type": "code",
   "execution_count": null,
   "metadata": {
    "collapsed": true
   },
   "outputs": [],
   "source": [
    "import importlib as ilib\n",
    "import logging\n",
    "import plotly.offline as plo\n",
    "import plotly.graph_objs as go\n",
    "import time"
   ]
  },
  {
   "cell_type": "code",
   "execution_count": null,
   "metadata": {},
   "outputs": [],
   "source": [
    "import omega.configuration as oc\n",
    "import omega.core.chain as occ\n",
    "import omega.core.chart as chart\n",
    "import omega.core.instrument as oci\n",
    "import omega.raid.backtrade as orb\n",
    "import omega.raid.events as ore\n",
    "import omega.raid.tests as ort\n",
    "import omega_ui.tearsheet as ots\n",
    "\n",
    "plo.init_notebook_mode(connected=True)"
   ]
  },
  {
   "cell_type": "code",
   "execution_count": null,
   "metadata": {
    "collapsed": true
   },
   "outputs": [],
   "source": [
    "# Disable logging output\n",
    "log = logging.getLogger()\n",
    "log.setLevel(logging.WARNING)"
   ]
  },
  {
   "cell_type": "code",
   "execution_count": null,
   "metadata": {},
   "outputs": [],
   "source": [
    "import omega.raid.utils as oru\n",
    "import omega_ui.backtest as ob\n",
    "ilib.reload(occ)\n",
    "ilib.reload(oru)"
   ]
  },
  {
   "cell_type": "markdown",
   "metadata": {},
   "source": [
    "# Backtest"
   ]
  },
  {
   "cell_type": "code",
   "execution_count": null,
   "metadata": {},
   "outputs": [],
   "source": [
    "import alpha.forecasts as af\n",
    "import alpha.harvester as ah\n",
    "import alpha.roll_return as arr\n",
    "import alpha.spreading as asp\n",
    "import alpha.risk as ar\n",
    "ilib.reload(orb)\n",
    "ilib.reload(arr)\n",
    "ilib.reload(ah)\n",
    "start = time.time()\n",
    "fbt = orb.FuturesBacktest()\n",
    "# Markets and Cash\n",
    "# ['BO', 'C_', 'CC', 'CL', 'CT', 'FC', 'GC', 'HG', 'HO', 'KC', 'LB', 'LC', 'LH', 'NG', 'O_', 'OJ', 'PA', 'RB', 'RR', 'S_', 'SB', 'SI', 'SM', 'W_']  # TODO: Fix PL\n",
    "# 'BO', 'C_', 'CC', 'CL', 'CT', 'FC', 'HG', 'HO', 'KC', 'LB', 'LC', 'LH', 'O_', 'OJ', 'RR', 'SB', 'SI', 'W_'\n",
    "# ['FC', 'HO', 'KC', 'LB', 'LC', 'LH', 'O_', 'OJ', 'RR', 'SB']\n",
    "# Summary: Problem with position across strategies Solutions? - easiest disable exit with front if more than one strategy - harder: keep track of positions in the strategy? Or move to mono strategy (would be faster to implement and run)?\n",
    "stems = ['ES']\n",
    "cash = 1000000.0\n",
    "# Strategy\n",
    "strategies = [ah.Front]  # ah.Front, ah.Reversal\n",
    "strategies = [{'strategy': s, 'parameters': fbt.get_parameters(s, stems)} for s in strategies]\n",
    "# If we need to optimize\n",
    "optimization = True\n",
    "if not optimization:\n",
    "    pnl, results = fbt.run_multi(stems, cash, strategies)\n",
    "    print('Total Profit: {:,.2f}'.format(pnl))\n",
    "    print('Backtest - Execution time: {:.0f} seconds!'.format(time.time() - start))\n",
    "else:\n",
    "    log.setLevel(logging.ERROR)\n",
    "    optim_range = range(5, 15)\n",
    "    # Always optimize 1st strategy!\n",
    "    strategy = strategies[0]['strategy']\n",
    "    params = strategies[0]['parameters']\n",
    "    params['optim_value'] = optim_range\n",
    "    pnls, results = orb.optimize(stems, cash, strategy, params)\n",
    "    dfo = pd.DataFrame.from_dict(pnls)\n",
    "    dfo.index = optim_range\n",
    "    print('Optimization values:\\n{}'.format(dfo[['PnL', 'DD', 'Sharpe']]))\n",
    "    print('Optimization - Execution time: {:.0f} seconds!'.format(time.time() - start))\n",
    "    log.setLevel(logging.INFO)"
   ]
  },
  {
   "cell_type": "markdown",
   "metadata": {},
   "source": [
    "## Tearsheet"
   ]
  },
  {
   "cell_type": "code",
   "execution_count": null,
   "metadata": {},
   "outputs": [],
   "source": [
    "ilib.reload(ots)\n",
    "# Create Tearsheet\n",
    "tearsheet = ots.create_tearsheet(results, '{}: {:,.2f}'.format(stems, pnl), notebook=True)\n",
    "# create graphsn\n",
    "plo.iplot(tearsheet['fig'])\n",
    "# print statistics\n",
    "for section in tearsheet['statistics']:\n",
    "    print(section)\n",
    "    for stat in tearsheet['statistics'][section]:\n",
    "        print('   %s: %s' % (stat, tearsheet['statistics'][section].get(stat)))"
   ]
  },
  {
   "cell_type": "code",
   "execution_count": null,
   "metadata": {},
   "outputs": [],
   "source": [
    "# Gross Leverage \n",
    "dfl = tearsheet['gross_leverage']\n",
    "plo.iplot({\n",
    "    'data': [go.Scatter(x=dfl.index, y=dfl * 100)],\n",
    "    'layout': go.Layout(title='Gross Leverage (%)', autosize=False, width=800)\n",
    "})"
   ]
  },
  {
   "cell_type": "code",
   "execution_count": null,
   "metadata": {},
   "outputs": [],
   "source": [
    "chart.spread('LBS2F12')"
   ]
  }
 ],
 "metadata": {
  "kernelspec": {
   "display_name": "Python 3",
   "language": "python",
   "name": "python3"
  },
  "language_info": {
   "codemirror_mode": {
    "name": "ipython",
    "version": 3
   },
   "file_extension": ".py",
   "mimetype": "text/x-python",
   "name": "python",
   "nbconvert_exporter": "python",
   "pygments_lexer": "ipython3",
   "version": "3.6.0"
  }
 },
 "nbformat": 4,
 "nbformat_minor": 2
}
