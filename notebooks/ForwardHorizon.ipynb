{
 "cells": [
  {
   "cell_type": "code",
   "execution_count": null,
   "metadata": {},
   "outputs": [],
   "source": [
    "import datetime as datetime\n",
    "from dateutil.relativedelta import relativedelta\n",
    "import dateutil.rrule as rr\n",
    "import importlib as ilib\n",
    "import logging\n",
    "import matplotlib\n",
    "import matplotlib.pyplot as plt\n",
    "import os\n",
    "import pandas as pd\n",
    "import pandas.tseries.offsets as o\n",
    "import plotly.offline as plo\n",
    "import plotly.graph_objs as go\n",
    "\n",
    "import omega.configuration as oc\n",
    "import omega.core.chain as occ\n",
    "import omega.core.instrument as oci\n",
    "\n",
    "import numpy as np\n",
    "import json\n",
    "plo.init_notebook_mode(connected=True)"
   ]
  },
  {
   "cell_type": "code",
   "execution_count": null,
   "metadata": {},
   "outputs": [],
   "source": [
    "# Disable logging output\n",
    "log = logging.getLogger()\n",
    "log.setLevel(logging.ERROR)"
   ]
  },
  {
   "cell_type": "code",
   "execution_count": null,
   "metadata": {},
   "outputs": [],
   "source": [
    "stem = 'FC'\n",
    "# Get Chain\n",
    "fc = occ.FutureChain(stem, oci.FutureType.Outright)\n",
    "contracts = fc.initialize_contracts(occ.Status.All)\n",
    "data = fc.initialize_data(days_back=240, partial=True)\n",
    "\n",
    "length = 4 \n",
    "df = fc.chain\n",
    "# dff = fc.get_continuous()\n",
    "\n",
    "dfs = []\n",
    "previous = '1900-01-01'\n",
    "for idx, row in fc.chain.iterrows():\n",
    "    ct, last = row.values\n",
    "    # Get current dataframe\n",
    "    cdf = fc.data[ct]\n",
    "    cdf = cdf[-91:-1] if idx == 0 else cdf[(cdf.index >= previous) & (cdf.index < last)]\n",
    "    # Update previous\n",
    "    previous = row['LastDate']\n",
    "    dfs.append(cdf)\n",
    "dff = pd.concat(dfs)\n",
    "bluecurve = go.Scatter(x=dff.index, y=dff['Close'])"
   ]
  },
  {
   "cell_type": "code",
   "execution_count": null,
   "metadata": {},
   "outputs": [],
   "source": [
    "# Plot the continuous curve\n",
    "fig = go.Figure(data=[bluecurve])\n",
    "plo.iplot(fig)"
   ]
  },
  {
   "cell_type": "code",
   "execution_count": null,
   "metadata": {},
   "outputs": [],
   "source": [
    "# Red curves\n",
    "def get_value(df, day):\n",
    "    try:\n",
    "        return df[df.index <= day].iloc[-1]['Close']\n",
    "    except:\n",
    "        return None\n",
    "    \n",
    "length = 6 # of contracts\n",
    "\n",
    "# days = ['2017-03-23', '2017-04-23', '2017-05-23', '2017-06-23', '2017-07-23', '2017-08-23', '2017-09-23', '2017-10-23', '2017-11-23', '2017-12-23', '2018-01-23', '2018-02-23', '2018-03-23']\n",
    "# get same date in each month since the beginning\n",
    "days = [min(dff.index) + relativedelta(months=i) for i in range(len(pd.unique(dff.index.strftime('%Y-%m'))))]\n",
    "days = [d.strftime('%Y-%m-%d') for d in days]\n",
    "index = range(length)\n",
    "\n",
    "redcurves = []\n",
    "n = 20 # number of x axis ticks (days) between prices (y coordinates) for contracts in the chain at time t\n",
    "for d in days:\n",
    "    actives = fc.chain[fc.chain['LastDate'] > d]\n",
    "    #print('Day: {} - Tickers: {}'.format(d, actives['Ticker'].values))\n",
    "    #log.warning('')\n",
    "    ts = [actives.iloc[idx]['Ticker'] if (idx+1 ) <= len(actives) else None for idx in index]\n",
    "    prices = [get_value(fc.data[x], d) if x is not None else None for x in ts]\n",
    "    xaxis = [pd.to_datetime(d) + pd.DateOffset(i*n) for i in range(len(prices))]\n",
    "    redcurves.append((xaxis,prices))\n"
   ]
  },
  {
   "cell_type": "code",
   "execution_count": null,
   "metadata": {},
   "outputs": [],
   "source": [
    "traces = []\n",
    "for c in redcurves:\n",
    "    trace = go.Scatter(\n",
    "        y = c[1], # prices\n",
    "        x = c[0], # tickvalues (dates) n ticks (days) apart from each other\n",
    "        mode = 'lines+markers',\n",
    "        line=dict(color='red'),\n",
    "        marker = dict(size = 2),\n",
    "        opacity = 0.5\n",
    "    )\n",
    "    traces.append(trace)\n",
    "    \n",
    "layout = dict(title='Forward Horizon')\n",
    "\n",
    "fig = go.Figure(data=[bluecurve] + traces, layout = layout)\n",
    "\n",
    "plo.iplot(fig)"
   ]
  }
 ],
 "metadata": {
  "kernelspec": {
   "display_name": "Python 3",
   "language": "python",
   "name": "python3"
  },
  "language_info": {
   "codemirror_mode": {
    "name": "ipython",
    "version": 3
   },
   "file_extension": ".py",
   "mimetype": "text/x-python",
   "name": "python",
   "nbconvert_exporter": "python",
   "pygments_lexer": "ipython3",
   "version": "3.6.0"
  }
 },
 "nbformat": 4,
 "nbformat_minor": 2
}
