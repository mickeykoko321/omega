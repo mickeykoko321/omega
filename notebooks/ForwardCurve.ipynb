{
 "cells": [
  {
   "cell_type": "code",
   "execution_count": null,
   "metadata": {},
   "outputs": [],
   "source": [
    "import datetime as dt\n",
    "import dateutil.rrule as rr\n",
    "import importlib as ilib\n",
    "import logging\n",
    "import matplotlib\n",
    "import matplotlib.pyplot as plt\n",
    "import os\n",
    "import pandas as pd\n",
    "import pandas.tseries.offsets as o\n",
    "import plotly.offline as plo\n",
    "import plotly.graph_objs as go\n",
    "\n",
    "import omega.configuration as oc\n",
    "import omega.core.chain as occ\n",
    "import omega.core.instrument as oci\n",
    "\n",
    "plo.init_notebook_mode(connected=True)\n",
    "#%matplotlib inline"
   ]
  },
  {
   "cell_type": "code",
   "execution_count": null,
   "metadata": {},
   "outputs": [],
   "source": [
    "# Disable logging output\n",
    "log = logging.getLogger()\n",
    "log.setLevel(logging.ERROR)"
   ]
  },
  {
   "cell_type": "code",
   "execution_count": null,
   "metadata": {},
   "outputs": [],
   "source": [
    "stem = 'FC'\n",
    "# Get Chain\n",
    "fc = occ.FutureChain(stem, oci.FutureType.Outright)\n",
    "contracts = fc.initialize_contracts(occ.Status.All)\n",
    "data = fc.initialize_data(days_back=240, partial=True)"
   ]
  },
  {
   "cell_type": "code",
   "execution_count": null,
   "metadata": {},
   "outputs": [],
   "source": [
    "def get_value(df, day):\n",
    "    try:\n",
    "        return df[df.index <= day].iloc[-1]['Close']\n",
    "    except:\n",
    "        return None"
   ]
  },
  {
   "cell_type": "code",
   "execution_count": null,
   "metadata": {},
   "outputs": [],
   "source": [
    "start = dt.datetime.strptime('2011-01-01','%Y-%m-%d')\n",
    "first_friday = start + o.BDay(4 - start.weekday())\n",
    "ycs = dict()\n",
    "# chain below is the dataframe of all contracts\n",
    "for date in rr.rrule(rr.WEEKLY, dtstart=first_friday, until=dt.datetime.strptime('2017-12-01','%Y-%m-%d')):\n",
    "    day = date.strftime('%Y-%m-%d')\n",
    "    actives = fc.chain[fc.chain['LastDate'] > day]\n",
    "    ts = [actives.iloc[idx]['Ticker'] for idx in range(4)]\n",
    "    ycs[day] = [get_value(fc.data[x], day) for x in ts]"
   ]
  },
  {
   "cell_type": "code",
   "execution_count": null,
   "metadata": {},
   "outputs": [],
   "source": [
    "from mpl_toolkits.mplot3d import Axes3D\n",
    "from matplotlib.collections import PolyCollection\n",
    "from matplotlib.colors import colorConverter\n",
    "import matplotlib.pyplot as plt\n",
    "import numpy as np\n",
    "\n",
    "zs = []\n",
    "fig = plt.figure()\n",
    "ax = fig.gca(projection='3d')\n",
    "verts = []\n",
    "\n",
    "for w in ycs:\n",
    "    xs, ys = [1, 2, 3, 4, 5, 6, 7], ycs[w]\n",
    "    verts.append(list(zip(xs, ys)))\n",
    "zs = range(len(ycs))\n",
    "\n",
    "colours = plt.cm.Blues(np.linspace(0.2, 1, len(zs)))\n",
    "poly = PolyCollection(verts, facecolors=colours)\n",
    "ax.add_collection3d(poly, zs=zs, zdir='y')\n",
    "\n",
    "ax.set_xlabel('X')\n",
    "ax.set_xlim3d(1, 7)\n",
    "ax.set_ylabel('Y')\n",
    "ax.set_ylim3d(1, len(ycs) + 1)\n",
    "ax.set_zlabel('Z')\n",
    "ax.set_zlim3d(200, 500)\n",
    "plt.show()"
   ]
  },
  {
   "cell_type": "code",
   "execution_count": null,
   "metadata": {},
   "outputs": [],
   "source": [
    "length = 6\n",
    "days = ['2017-03-23', '2017-04-23', '2017-05-23', '2017-06-23', '2017-07-23', '2017-08-23', '2017-09-23', '2017-10-23', '2017-11-23', '2017-12-23', '2018-01-23', '2018-02-23', '2018-03-23']\n",
    "index = range(length)\n",
    "\n",
    "values = []\n",
    "i = [x + 1 for x in index]\n",
    "for d in days:\n",
    "    actives = fc.chain[fc.chain['LastDate'] > d]\n",
    "    print('Day: {} - Tickers: {}'.format(d, actives['Ticker'].values))\n",
    "    log.warning('')\n",
    "    ts = [actives.iloc[idx]['Ticker'] if (idx + 1) <= len(actives) else None for idx in index]\n",
    "    values.append([get_value(fc.data[x], d) if x is not None else None for x in ts])\n",
    "\n",
    "plo.iplot({\n",
    "    'data': [go.Scatter(x=i, y=v, name=days[i]) for i,v in enumerate(values)],\n",
    "    'layout': go.Layout(title='Forward Curve', xaxis=dict(title='Contracts'), yaxis=dict(type='log', title='Price'))\n",
    "}, show_link=False)"
   ]
  }
 ],
 "metadata": {
  "kernelspec": {
   "display_name": "Python 3",
   "language": "python",
   "name": "python3"
  },
  "language_info": {
   "codemirror_mode": {
    "name": "ipython",
    "version": 3
   },
   "file_extension": ".py",
   "mimetype": "text/x-python",
   "name": "python",
   "nbconvert_exporter": "python",
   "pygments_lexer": "ipython3",
   "version": "3.6.0"
  }
 },
 "nbformat": 4,
 "nbformat_minor": 2
}
