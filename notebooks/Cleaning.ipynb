{
 "cells": [
  {
   "cell_type": "code",
   "execution_count": null,
   "metadata": {
    "collapsed": true
   },
   "outputs": [],
   "source": [
    "import importlib as ilib\n",
    "import logging\n",
    "import math\n",
    "import pandas as pd\n",
    "\n",
    "import omega.core.chain as occ\n",
    "import omega.core.instrument as oci\n",
    "import omega.data.cleaning as odc\n",
    "import omega.data.download as odd"
   ]
  },
  {
   "cell_type": "code",
   "execution_count": null,
   "metadata": {},
   "outputs": [],
   "source": [
    "ilib.reload(odc)"
   ]
  },
  {
   "cell_type": "code",
   "execution_count": null,
   "metadata": {},
   "outputs": [],
   "source": [
    "# Disable logging output\n",
    "log = logging.getLogger()\n",
    "log.setLevel(logging.WARNING)"
   ]
  },
  {
   "cell_type": "markdown",
   "metadata": {},
   "source": [
    "# Cleaning Process\n",
    "TODO: Must develop an exclusion list for the missing files!"
   ]
  },
  {
   "cell_type": "code",
   "execution_count": null,
   "metadata": {},
   "outputs": [],
   "source": [
    "stem = 'ES'\n",
    "# Missing Data\n",
    "missing = odc.inspect_files([stem])\n",
    "print('Number of tickers with missing data: {}'.format(len(missing)))\n",
    "no_data = odc.check_has_data([stem])\n",
    "print('Number of tickers with no data: {}'.format(len(no_data)))"
   ]
  },
  {
   "cell_type": "markdown",
   "metadata": {},
   "source": [
    "## Missing Data (try fix)"
   ]
  },
  {
   "cell_type": "code",
   "execution_count": null,
   "metadata": {},
   "outputs": [],
   "source": [
    "# Missing Data\n",
    "output = True\n",
    "threshold = 0\n",
    "try_fix = True\n",
    "if output:\n",
    "    df = pd.DataFrame.from_dict(missing, orient='index')\n",
    "    df.columns = ['missing']\n",
    "    fdf = df[df['missing'] >= threshold]\n",
    "    print('Number missing above {}: {}'.format(threshold, len(fdf)))\n",
    "    print(fdf)\n",
    "    log.setLevel(logging.DEBUG)\n",
    "    if try_fix:\n",
    "        for idx, _ in fdf.iterrows():\n",
    "            odc.try_fix_missing(idx)\n",
    "    log.setLevel(logging.WARNING)"
   ]
  },
  {
   "cell_type": "markdown",
   "metadata": {},
   "source": [
    "## Missing Files (try re-download)"
   ]
  },
  {
   "cell_type": "code",
   "execution_count": null,
   "metadata": {},
   "outputs": [],
   "source": [
    "output = True\n",
    "download = True\n",
    "if output:\n",
    "    print('Original list:')\n",
    "    print(no_data)\n",
    "    print('\\nFiltered list:')\n",
    "    filter = [nd for nd in no_data if int(nd[-2:]) >= 0]\n",
    "    print(filter)\n",
    "    if download:\n",
    "        print('Attempt to download data for the missing tickers')\n",
    "        odd.download_missing([stem], filter=1)"
   ]
  },
  {
   "cell_type": "markdown",
   "metadata": {},
   "source": [
    "## Validate Data for chain"
   ]
  },
  {
   "cell_type": "code",
   "execution_count": null,
   "metadata": {},
   "outputs": [],
   "source": [
    "print('Validate Outrights')\n",
    "fc = occ.FutureChain(stem, oci.FutureType.Outright)\n",
    "_ = fc.initialize_contracts(occ.Status.Expired, initialize_data=True)\n",
    "print('\\n')\n",
    "print('Validate Spreads')\n",
    "fc = occ.FutureChain(stem, oci.FutureType.Spread)\n",
    "_ = fc.initialize_contracts(occ.Status.Expired, initialize_data=True)"
   ]
  }
 ],
 "metadata": {
  "kernelspec": {
   "display_name": "Python 3",
   "language": "python",
   "name": "python3"
  },
  "language_info": {
   "codemirror_mode": {
    "name": "ipython",
    "version": 3
   },
   "file_extension": ".py",
   "mimetype": "text/x-python",
   "name": "python",
   "nbconvert_exporter": "python",
   "pygments_lexer": "ipython3",
   "version": "3.6.0"
  }
 },
 "nbformat": 4,
 "nbformat_minor": 2
}
