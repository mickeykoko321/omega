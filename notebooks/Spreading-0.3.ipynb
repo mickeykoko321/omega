{
 "cells": [
  {
   "cell_type": "code",
   "execution_count": null,
   "metadata": {
    "hideCode": false,
    "hidePrompt": false
   },
   "outputs": [],
   "source": [
    "import IPython.core.display as di\n",
    "import datetime as dt\n",
    "import importlib as ilib\n",
    "import logging\n",
    "import matplotlib\n",
    "import matplotlib.finance as fin\n",
    "import matplotlib.pyplot as plt\n",
    "import matplotlib.colors as colors\n",
    "import matplotlib.cm as cmx\n",
    "import matplotlib.gridspec as gridspec\n",
    "import numpy as np\n",
    "import os\n",
    "import pandas as pd\n",
    "import quandl as qdl\n",
    "import timeit\n",
    "\n",
    "import omega.configuration as c\n",
    "import omega.core.chain as cc\n",
    "import omega.core.chart as chart\n",
    "import omega.data.cot as odc\n",
    "import omega.core.instrument as ci\n",
    "import omega.xl.spreading as spread\n",
    "\n",
    "%matplotlib inline\n",
    "qdl.ApiConfig.api_key = 'SkmBQRG9gxQK4HmeSoze'\n",
    "\n",
    "# Identify Goldman Roll"
   ]
  },
  {
   "cell_type": "code",
   "execution_count": null,
   "metadata": {
    "hideCode": false,
    "hidePrompt": false
   },
   "outputs": [],
   "source": [
    "ilib.reload(cc)\n",
    "ilib.reload(chart)\n",
    "ilib.reload(spread)\n",
    "ilib.reload(ci)"
   ]
  },
  {
   "cell_type": "code",
   "execution_count": null,
   "metadata": {
    "hideCode": false,
    "hidePrompt": false
   },
   "outputs": [],
   "source": [
    "# Disable logging output\n",
    "logger = logging.getLogger()\n",
    "logger.setLevel(logging.WARNING)"
   ]
  },
  {
   "cell_type": "code",
   "execution_count": null,
   "metadata": {
    "scrolled": false
   },
   "outputs": [],
   "source": [
    "start = timeit.default_timer()\n",
    "aRY = False\n",
    "sback = 90  # Spread Loopback\n",
    "universe = spread.get_universe('Research')\n",
    "print('Number of traded commodities: {} out of 27!'.format(len(universe)))\n",
    "# Load Data\n",
    "data = dict()\n",
    "cots = dict()\n",
    "cots2 = dict()\n",
    "stats = dict()\n",
    "stdsvols = dict()\n",
    "candles = dict()\n",
    "for idx, row in universe.iterrows():\n",
    "    ct = row['CTicker']\n",
    "    data[ct] = cc.FutureChain(ct, ci.FutureType.Spread).initialize_data(extra_days=False)\n",
    "    nbs = len(data[ct])\n",
    "    print('{}: {} spreads in the dataset!'.format(ct, nbs))\n",
    "    # COT Download\n",
    "    cot = odc.cot_data(ct)\n",
    "    cots[ct] = cot['HPS'].resample('B').last().ffill()\n",
    "    cots2[ct] = cot['HPH'].resample('B').last().ffill()\n",
    "    # Variables\n",
    "    avg_vol = [0 for _ in range(sback)]\n",
    "    avg_std = [0 for _ in range(sback)]\n",
    "    stdl = []\n",
    "    voll = []\n",
    "    midl = []\n",
    "    errorl = []\n",
    "    candl = []\n",
    "    dfs = []\n",
    "    nb = 0\n",
    "    for tk, df in data[ct].items():\n",
    "        if len(df) < sback:\n",
    "            print('Problem with {} (length: {}), not enough data!'.format(tk, len(df)))\n",
    "            continue      \n",
    "        # Volumes\n",
    "        avg_vol += df.Volume.values.astype(int)  # Little hack as volume is written as double (to correct)\n",
    "        # Rolling variance\n",
    "        avg_std += df.Close.rolling(10).std().values\n",
    "        stdl.append(df.Close.rolling(10).std().values)\n",
    "        # Signal\n",
    "        df['SignalS'] = pd.Series([-1 if x > 0 else 1 for x in cots[ct][df.index]], index=df.index)\n",
    "        df['SignalH'] = pd.Series([1 if x > 0 else -1 for x in cots2[ct][df.index]], index=df.index)\n",
    "        # Ranges\n",
    "        if aRY:\n",
    "            # Annualized roll yield\n",
    "            df['aRY'] = d.roll_yield(tk, df)\n",
    "            # aRY based\n",
    "            mid = (df['aRY'].max() + df['aRY'].min()) / 2\n",
    "            error = df['aRY'].max() - mid\n",
    "        else:\n",
    "            # Spread range\n",
    "            mid = (df['Low'].min() + df['High'].max()) / 2\n",
    "            error = df['High'].max() - mid\n",
    "        midl.append(mid)\n",
    "        errorl.append(error)\n",
    "        # Variation Candles\n",
    "        candle = {'Open': df.iloc[0]['Open'], 'High': df['High'].max(), 'Low': df['Low'].min(), 'Close': df.iloc[-1]['Close']}\n",
    "        candl.append(candle)\n",
    "        nb += 1\n",
    "    stats[ct] = {'Vol': avg_vol / nb, 'Std': avg_std / nb, 'Mids': midl, 'Errors': errorl}\n",
    "    stdsvols[ct] = {'Vol': voll, 'Std': stdl}\n",
    "    candles[ct] = pd.DataFrame(candl)\n",
    "print('Execution time: {:.2f} seconds!'.format(timeit.default_timer() - start))"
   ]
  },
  {
   "cell_type": "code",
   "execution_count": null,
   "metadata": {
    "hideCode": false,
    "hidePrompt": false,
    "scrolled": false
   },
   "outputs": [],
   "source": [
    "start = timeit.default_timer()\n",
    "# Getting data\n",
    "perfs = dict()\n",
    "universe = spread.get_universe('Research')\n",
    "for idx, row in universe.iterrows():\n",
    "    ct = row['CTicker']\n",
    "    strategy = row['Strategy']\n",
    "    reversal = int(row['Reversal'])\n",
    "    # Variables\n",
    "    pnl = pd.Series()\n",
    "    for tk, df in data[ct].items():\n",
    "        try:\n",
    "            if 'SignalS' not in df.columns:\n",
    "                continue\n",
    "            df['Signal'] = df['SignalS']  # (df['SignalS'] - df['SignalH']) /2\n",
    "            df['CS'] = cots[ct][df.index]\n",
    "            df['Switch'] = (df['Signal'] + df['Signal'].shift(1)) / 2\n",
    "            df['Diff'] = df['Close'] - df['Close'].shift(1)\n",
    "            df['PnL'] = df['Switch'] * df['Diff'] * ci.get(ct, 'Point') * row['Size']\n",
    "            df.fillna(0, inplace=True)\n",
    "            # PnL (with reversal)\n",
    "            pnl_df = df\n",
    "            if reversal > 0:\n",
    "                pnl_df['PnL'][-reversal:] = -pnl_df['PnL'][-reversal:]\n",
    "            # Reversal Only\n",
    "            if 'R' == strategy:\n",
    "                pnl_df['PnL'][0:-reversal] = 0\n",
    "            # Front-Running Only\n",
    "            if 'F' == strategy and reversal > 0:\n",
    "                pnl_df['PnL'][-reversal:] = 0\n",
    "            # PnL\n",
    "            pnl = df['PnL'] if nb == 0 else pnl.add(pnl_df['PnL'], fill_value=0)\n",
    "            nb += 1\n",
    "        except Exception as e:\n",
    "            print('Problem with {}! {}'.format(tk, e))\n",
    "    perfs[ct] = {'Perf': pnl.cumsum()}\n",
    "print('Execution time: {:.2f} seconds!'.format(timeit.default_timer() - start))"
   ]
  },
  {
   "cell_type": "code",
   "execution_count": null,
   "metadata": {
    "hideCode": false,
    "hidePrompt": false
   },
   "outputs": [],
   "source": [
    "results = r'C:\\Users\\Laurent\\Desktop\\Results'\n",
    "btType = '.HPS'\n",
    "save_png = False\n",
    "di.display_html('<h3>Spreads Tear Sheets</h3>', raw=True)\n",
    "for k, v in stats.items():\n",
    "    f, ((ax1, ax2), (ax3, ax4)) = plt.subplots(2, 2, figsize=(18, 9))\n",
    "    ax1.set_title('Average Volume')\n",
    "    ax1.plot(stats[k]['Vol'])\n",
    "    ax2.set_title('Spread Yield' if aRY else 'Spread Variation')\n",
    "    ax2.errorbar(range(len(stats[k]['Mids'])), stats[k]['Mids'], xerr=0, yerr=stats[k]['Errors'])\n",
    "    ax3.set_title('Average Std')\n",
    "    ax3.plot(stats[k]['Std'])\n",
    "    ax4.set_title('Performance: {}'.format(perfs[k]['Perf'][-1]))\n",
    "    ax4.plot(perfs[k]['Perf'])\n",
    "    f.suptitle(k, fontsize=16)\n",
    "    if save_png:\n",
    "        f.savefig(os.path.join(results, '{}.Tear{}.png'.format(k, btType)))"
   ]
  },
  {
   "cell_type": "code",
   "execution_count": null,
   "metadata": {
    "hideCode": false,
    "hidePrompt": false
   },
   "outputs": [],
   "source": [
    "di.display_html('<h3>Total Performance</h3>', raw=True)\n",
    "total = pd.Series()\n",
    "for idx, (k, v) in enumerate(stats.items()):\n",
    "    if idx == 0:\n",
    "        total = perfs[k]['Perf']\n",
    "    else:\n",
    "        total = total.add(perfs[k]['Perf']).ffill().bfill()\n",
    "print(total[-1])\n",
    "total.plot()\n",
    "# total.to_csv('Mini.csv')"
   ]
  },
  {
   "cell_type": "code",
   "execution_count": null,
   "metadata": {
    "hideCode": false,
    "hidePrompt": false,
    "scrolled": false
   },
   "outputs": [],
   "source": [
    "if True:\n",
    "    di.display_html('<h3>Individual Performances</h3>', raw=True)\n",
    "    idfs = data['LH']\n",
    "    for tk, df in idfs.items():\n",
    "        # Plot\n",
    "        if 'PnL' in df.columns:\n",
    "            f, (ax1, ax2, ax3) = plt.subplots(3, sharex=True)\n",
    "            f.suptitle('{}: {}'.format(tk, df.PnL.sum()), fontsize=16)\n",
    "            ax1.plot(df.Close)\n",
    "            ax2.plot(df.CS)\n",
    "            ax3.plot(df.PnL.cumsum())\n",
    "            f.subplots_adjust(hspace=0)\n",
    "        else:\n",
    "            print('DataFrame for {} is incomplete!'.format(tk))"
   ]
  },
  {
   "cell_type": "code",
   "execution_count": null,
   "metadata": {
    "hideCode": false,
    "hidePrompt": false,
    "scrolled": false
   },
   "outputs": [],
   "source": [
    "if False:\n",
    "    di.display_html('<h3>Individual Goldman Roll Performances</h3>', raw=True)\n",
    "    ct = 'SB'\n",
    "    idfs = data[ct]\n",
    "    avg_diff = [0 for _ in range(20)]\n",
    "    pnl = pd.Series()\n",
    "    nb = 0\n",
    "    for tk, df in idfs.items():\n",
    "        # Date of when the Goldman Roll Starts\n",
    "        dt_gr_start = df[df.index >= i.gr_month_start(tk)].index[4]\n",
    "        df_gr = df.reset_index()\n",
    "        df_gr.rename(columns = {'index': 'Date'}, inplace = True)\n",
    "        i_start = df_gr[df_gr['Date'] == dt_gr_start].index.tolist()[0]\n",
    "        df_gr = df_gr.iloc[i_start - 20:i_start]\n",
    "        df_gr.set_index('Date', inplace=True)\n",
    "        df_gr.index.names = [None]\n",
    "        # print('{} {}'.format(tk, len(df_gr)))\n",
    "        if len(df_gr) == 20 and 'Diff' in df_gr.columns:\n",
    "            #f, (ax1, ax2, ax3) = plt.subplots(3)\n",
    "            #f.suptitle(tk, fontsize=16)\n",
    "            #ax1.plot(df_gr['Diff'].cumsum().values)\n",
    "            #ax2.plot(df_gr['MN'])\n",
    "            #ax3.plot(df_gr['PnL'].cumsum())\n",
    "            df_gr['PnL'] = df_gr['Switch'] * df_gr['Diff'] * i.get(ct, 'Point') * universe.loc[i.get_stem(ct, 'Reuters')]['Size']\n",
    "            pnl = df_gr['PnL'] if nb == 0 else pnl.add(df_gr['PnL'], fill_value=0)\n",
    "            avg_diff += df_gr['Diff'].cumsum().values\n",
    "            nb +=1\n",
    "    avg_diff /= nb\n",
    "    # Plot\n",
    "    f, (ax1, ax2) = plt.subplots(2)\n",
    "    f.suptitle(ct, fontsize=16)\n",
    "    ax1.plot(avg_diff)\n",
    "    ax2.plot(pnl.cumsum())\n",
    "    print(pnl.sum())"
   ]
  },
  {
   "cell_type": "code",
   "execution_count": null,
   "metadata": {
    "hideCode": false,
    "hidePrompt": false,
    "scrolled": false
   },
   "outputs": [],
   "source": [
    "if True:\n",
    "    di.display_html('<h3>Candlesticks Variations</h3>', raw=True)\n",
    "    for idx, row in universe.iterrows():\n",
    "        ct = row['CTicker']\n",
    "        df = candles[ct]\n",
    "        fig, ax = plt.subplots()\n",
    "        fig.suptitle(ct, fontsize=16)\n",
    "        try:\n",
    "            fin.candlestick2_ohlc(ax, df['Open'], df['High'], df['Low'], df['Close'],width=0.6)\n",
    "        except:\n",
    "            # TODO: Find root of this little hack...\n",
    "            df = df + 100\n",
    "            fin.candlestick2_ohlc(ax, df['Open'], df['High'], df['Low'], df['Close'],width=0.6)"
   ]
  },
  {
   "cell_type": "code",
   "execution_count": null,
   "metadata": {
    "hideCode": false,
    "hidePrompt": false,
    "scrolled": false
   },
   "outputs": [],
   "source": [
    "if False:\n",
    "    di.display_html('<h3>Std Analysis</h3>', raw=True)\n",
    "    idfs = stdsvols['LB']\n",
    "    idfs2 = []\n",
    "    length = 10\n",
    "    for idx, df in enumerate(idfs[length:]):\n",
    "        adf = sum(idfs[idx + 0:idx + length]) / length\n",
    "        f, ax = plt.subplots(1)\n",
    "        ax.plot(adf)"
   ]
  },
  {
   "cell_type": "code",
   "execution_count": null,
   "metadata": {},
   "outputs": [],
   "source": [
    "def plot_gradient_df(df, title, cname):\n",
    "    # Figure\n",
    "    f, (ax1, ax2) = plt.subplots(2, figsize=(18, 8))\n",
    "    f.subplots_adjust(top=0.93, bottom=0.01, left=0.2, right=0.99)\n",
    "    gs = gridspec.GridSpec(2, 1, height_ratios=[1, 50]) \n",
    "    # Colors\n",
    "    cm = plt.get_cmap(cname)\n",
    "    cNorm  = colors.Normalize(vmin=0, vmax=len(df.columns))\n",
    "    scalarMap = cmx.ScalarMappable(norm=cNorm, cmap=cm)\n",
    "    # Gradient\n",
    "    gradient = np.linspace(0, 1, 256)\n",
    "    gradient = np.vstack((gradient, gradient))\n",
    "    # Gradient Plot\n",
    "    ax1 = plt.subplot(gs[0])\n",
    "    ax1.imshow(gradient, aspect='auto', cmap=plt.get_cmap(cname))\n",
    "    ax1.get_xaxis().set_visible(False)\n",
    "    ax1.get_yaxis().set_visible(False)\n",
    "    gs.update(hspace=0.02)\n",
    "    # Chart plot\n",
    "    ax2 = plt.subplot(gs[1])\n",
    "    for idx, col in enumerate(df.columns):\n",
    "        ax2.plot(df[col], color=scalarMap.to_rgba(idx))\n",
    "    # Title\n",
    "    f.suptitle(title, fontsize=16)"
   ]
  },
  {
   "cell_type": "code",
   "execution_count": null,
   "metadata": {
    "hideCode": false,
    "hidePrompt": false,
    "scrolled": false
   },
   "outputs": [],
   "source": [
    "# Plot contracts\n",
    "if True:\n",
    "    stem = 'LH'\n",
    "    fc = cc.FutureChain(stem, ci.FutureType.Spread)\n",
    "    fc.initialize_contracts(cc.Status.Expired, filter='H', initialize_data=True)\n",
    "    for ct in fc.contracts:\n",
    "        df = fc.data[ct]\n",
    "        fig, ax = plt.subplots(figsize=(18, 9))\n",
    "        fig.suptitle(ct, fontsize=16)\n",
    "        try:\n",
    "            fin.candlestick2_ohlc(ax, df['Open'], df['High'], df['Low'], df['Close'], width=0.6)\n",
    "        except:\n",
    "            # TODO: Find root of this little hack...\n",
    "            df = df + 100\n",
    "            fin.candlestick2_ohlc(ax, df['Open'], df['High'], df['Low'], df['Close'], width=0.6)"
   ]
  },
  {
   "cell_type": "code",
   "execution_count": null,
   "metadata": {
    "hideCode": false,
    "hidePrompt": false,
    "scrolled": false
   },
   "outputs": [],
   "source": [
    "ilib.reload(cc)\n",
    "if True:\n",
    "    stem = 'LB'\n",
    "    field = 'Close'\n",
    "    di.display_html('<h3>{} Analysis</h3>'.format(field), raw=True)\n",
    "    # Chain\n",
    "    fc = cc.FutureChain(stem, ci.FutureType.Spread)\n",
    "    fc.initialize_contracts(cc.Status.Expired, filter='H', initialize_data=True)\n",
    "    print('Number of contracts: {}'.format(len(fc.contracts)))\n",
    "    print('Contracts: {}'.format(fc.contracts))\n",
    "    # Data\n",
    "    vals = pd.DataFrame()\n",
    "    for ct in fc.contracts:\n",
    "        vals[ct] = fc.data[ct][field].values\n",
    "        #vals[ct] = cc.aggregate(fc, ct, field)\n",
    "    plot_gradient_df(vals, '{} - {}'.format(stem, field), 'inferno')"
   ]
  },
  {
   "cell_type": "code",
   "execution_count": null,
   "metadata": {},
   "outputs": [],
   "source": []
  }
 ],
 "metadata": {
  "hide_code_all_hidden": false,
  "kernelspec": {
   "display_name": "Python 3",
   "language": "python",
   "name": "python3"
  },
  "language_info": {
   "codemirror_mode": {
    "name": "ipython",
    "version": 3
   },
   "file_extension": ".py",
   "mimetype": "text/x-python",
   "name": "python",
   "nbconvert_exporter": "python",
   "pygments_lexer": "ipython3",
   "version": "3.6.0"
  }
 },
 "nbformat": 4,
 "nbformat_minor": 2
}
